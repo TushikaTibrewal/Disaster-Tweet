{
  "nbformat": 4,
  "nbformat_minor": 0,
  "metadata": {
    "colab": {
      "provenance": [],
      "include_colab_link": true
    },
    "kernelspec": {
      "name": "python3",
      "display_name": "Python 3"
    },
    "language_info": {
      "name": "python"
    }
  },
  "cells": [
    {
      "cell_type": "markdown",
      "metadata": {
        "id": "view-in-github",
        "colab_type": "text"
      },
      "source": [
        "<a href=\"https://colab.research.google.com/github/TushikaTibrewal/Disaster-Tweet/blob/main/Disaster_Tweet.ipynb\" target=\"_parent\"><img src=\"https://colab.research.google.com/assets/colab-badge.svg\" alt=\"Open In Colab\"/></a>"
      ]
    },
    {
      "cell_type": "code",
      "execution_count": null,
      "metadata": {
        "id": "pk7WR-Z-6Vzj"
      },
      "outputs": [],
      "source": [
        "import pandas as pd\n",
        "import re\n",
        "import string\n",
        "from bs4 import BeautifulSoup\n",
        "from nltk.corpus import stopwords\n",
        "import nltk"
      ]
    },
    {
      "cell_type": "markdown",
      "source": [
        "**CLEANING**"
      ],
      "metadata": {
        "id": "pt0WEduOGrAM"
      }
    },
    {
      "cell_type": "code",
      "source": [
        "nltk.download('stopwords')\n",
        "stop_words = set(stopwords.words('english'))"
      ],
      "metadata": {
        "colab": {
          "base_uri": "https://localhost:8080/"
        },
        "id": "-8AE9xZyAvvP",
        "outputId": "90b99acf-a176-4a54-dcf6-8f83985309c5"
      },
      "execution_count": null,
      "outputs": [
        {
          "output_type": "stream",
          "name": "stderr",
          "text": [
            "[nltk_data] Downloading package stopwords to /root/nltk_data...\n",
            "[nltk_data]   Unzipping corpora/stopwords.zip.\n"
          ]
        }
      ]
    },
    {
      "cell_type": "code",
      "source": [
        "ds=pd.read_csv('train.csv')\n",
        "def clean_text(text):\n",
        "    # Remove HTML tags\n",
        "    text = BeautifulSoup(text, \"html.parser\").get_text()\n",
        "    # Remove mentions (@user)\n",
        "    text = re.sub(r'@\\w+', '', text)\n",
        "    # Remove hashtags\n",
        "    text = re.sub(r'#\\w+', '', text)\n",
        "    # Remove URLs\n",
        "    text = re.sub(r'http\\S+|www\\S+|https\\S+', '', text)\n",
        "    # Remove punctuations\n",
        "    text = text.translate(str.maketrans('', '', string.punctuation))\n",
        "    # Remove stopwords\n",
        "    tokens = text.split()\n",
        "    tokens = [word for word in tokens if word.lower() not in stop_words]\n",
        "    text = ' '.join(tokens)\n",
        "    return text"
      ],
      "metadata": {
        "id": "C7uhNfod7WG6"
      },
      "execution_count": 15,
      "outputs": []
    },
    {
      "cell_type": "code",
      "source": [
        "ds['text'] = ds['text'].astype(str).apply(clean_text)\n",
        "\n",
        "# Preview cleaned data\n",
        "ds.head()"
      ],
      "metadata": {
        "id": "YmWQa08FA3WH"
      },
      "execution_count": null,
      "outputs": []
    },
    {
      "cell_type": "code",
      "source": [
        "ds = ds.fillna('')"
      ],
      "metadata": {
        "id": "yVgJLrdJCovb"
      },
      "execution_count": null,
      "outputs": []
    },
    {
      "cell_type": "markdown",
      "source": [
        "**EXPLORATORY DATA ANALYSIS**"
      ],
      "metadata": {
        "id": "VwINd4zUGxya"
      }
    },
    {
      "cell_type": "code",
      "source": [
        "from collections import Counter\n",
        "from textblob import TextBlob\n",
        "import seaborn as sns\n",
        "from wordcloud import WordCloud\n",
        "import matplotlib.pyplot as plt"
      ],
      "metadata": {
        "id": "3y3Bz749CxHp"
      },
      "execution_count": null,
      "outputs": []
    },
    {
      "cell_type": "code",
      "source": [
        "\n",
        "# Plot class distribution\n",
        "plt.figure(figsize=(6,4))\n",
        "sns.countplot(x='target', data=ds)\n",
        "plt.title('Disaster vs Non-Disaster Tweet Distribution')\n",
        "plt.xlabel('Target (0: Non-Disaster, 1: Disaster)')\n",
        "plt.ylabel('Number of Tweets')\n",
        "plt.show()\n",
        "\n",
        "# Generate word clouds for each class\n",
        "disaster_text = ' '.join(ds[ds['target'] == 1]['text'].astype(str).tolist())\n",
        "nondisaster_text = ' '.join(ds[ds['target'] == 0]['text'].astype(str).tolist())\n",
        "\n",
        "disaster_wc = WordCloud(width=800, height=400, background_color='white').generate(disaster_text)\n",
        "nondisaster_wc = WordCloud(width=800, height=400, background_color='white').generate(nondisaster_text)\n",
        "\n",
        "plt.figure(figsize=(12, 6))\n",
        "plt.subplot(1,2,1)\n",
        "plt.imshow(disaster_wc, interpolation='bilinear')\n",
        "plt.axis('off')\n",
        "plt.title('Disaster Tweets Word Cloud')\n",
        "plt.subplot(1,2,2)\n",
        "plt.imshow(nondisaster_wc, interpolation='bilinear')\n",
        "plt.axis('off')\n",
        "plt.title('Non-Disaster Tweets Word Cloud')\n",
        "plt.show()\n",
        "\n",
        "# Text length exploration\n",
        "ds['text_len'] = ds['text'].astype(str).apply(len)\n",
        "plt.figure(figsize=(8,5))\n",
        "sns.histplot(ds, x='text_len', hue='target', element='step', stat='density', common_norm=False, bins=30)\n",
        "plt.title('Tweet Length Distribution by Class')\n",
        "plt.xlabel('Text Length')\n",
        "plt.ylabel('Density')\n",
        "plt.show()\n",
        "\n",
        "# Most frequent words (excluding stopwords)\n",
        "from nltk.corpus import stopwords\n",
        "nltk.download('stopwords')\n",
        "stop_words = set(stopwords.words('english'))\n",
        "\n",
        "def get_most_common_words(text_series, n=20):\n",
        "    words = ' '.join(text_series).lower().split()\n",
        "    clean_words = [word for word in words if word not in stop_words and word.isalpha()]\n",
        "    return Counter(clean_words).most_common(n)\n",
        "\n",
        "print('Most Common words in Disaster Tweets:')\n",
        "print(get_most_common_words(ds[ds['target']==1]['text']))\n",
        "print('\\nMost Common words in Non-Disaster Tweets:')\n",
        "print(get_most_common_words(ds[ds['target']==0]['text']))\n",
        "\n",
        "# Sentiment pattern analysis\n",
        "# Compute polarity using TextBlob\n",
        "ds['polarity'] = ds['text'].astype(str).apply(lambda x: TextBlob(x).sentiment.polarity)\n",
        "\n",
        "plt.figure(figsize=(8,5))\n",
        "sns.histplot(ds, x='polarity', hue='target', element='step', stat='density', common_norm=False, bins=30)\n",
        "plt.title('Sentiment Polarity Distribution by Class')\n",
        "plt.xlabel('Sentiment Polarity')\n",
        "plt.ylabel('Density')\n",
        "plt.show()\n"
      ],
      "metadata": {
        "id": "6kyn_2sqDtdT"
      },
      "execution_count": null,
      "outputs": []
    },
    {
      "cell_type": "markdown",
      "source": [
        "**FEATURE ENGINEERING**"
      ],
      "metadata": {
        "id": "E28gnLEmG9aQ"
      }
    },
    {
      "cell_type": "code",
      "source": [
        "\n",
        "from sklearn.feature_extraction.text import TfidfVectorizer\n",
        "\n",
        "texts = ds['text'].astype(str)  # Change 'text' if your column has another name\n",
        "\n",
        "# TF-IDF: Unigram (1,1)\n",
        "vectorizer_uni = TfidfVectorizer(ngram_range=(1,1), max_features=1000)\n",
        "X_uni = vectorizer_uni.fit_transform(texts)\n",
        "print(\"Unigram TF-IDF shape:\", X_uni.shape)\n",
        "\n",
        "# TF-IDF: Bigram (1,2)\n",
        "vectorizer_bi = TfidfVectorizer(ngram_range=(1,2), max_features=1000)\n",
        "X_bi = vectorizer_bi.fit_transform(texts)\n",
        "print(\"Bigram TF-IDF shape:\", X_bi.shape)\n",
        "\n",
        "# TF-IDF: Trigram (1,3)\n",
        "vectorizer_tri = TfidfVectorizer(ngram_range=(1,3), max_features=1000)\n",
        "X_tri = vectorizer_tri.fit_transform(texts)\n",
        "print(\"Trigram TF-IDF shape:\", X_tri.shape)\n",
        "\n",
        "# Show sample features for each\n",
        "print(\"Sample Unigram Features:\", vectorizer_uni.get_feature_names_out()[:10])\n",
        "print(\"Sample Bigram Features:\", vectorizer_bi.get_feature_names_out()[:10])\n",
        "print(\"Sample Trigram Features:\", vectorizer_tri.get_feature_names_out()[:10])\n"
      ],
      "metadata": {
        "id": "kUv7U-8TEulN"
      },
      "execution_count": null,
      "outputs": []
    },
    {
      "cell_type": "markdown",
      "source": [
        "**DATA TRAINING & EVALUATION**"
      ],
      "metadata": {
        "id": "QLt72_DmHEXL"
      }
    },
    {
      "cell_type": "code",
      "source": [
        "import numpy as np\n",
        "from sklearn.model_selection import train_test_split\n",
        "from sklearn.linear_model import LogisticRegression\n",
        "from sklearn.naive_bayes import MultinomialNB\n",
        "from sklearn.svm import LinearSVC\n",
        "from sklearn.metrics import accuracy_score, precision_score, recall_score, f1_score, confusion_matrix, classification_report\n",
        "\n",
        "# Prepare features and labels\n",
        "X = X_uni  # or X_bi or X_tri as per your choice from TF-IDF\n",
        "y = ds['target']\n",
        "\n",
        "# Train/test split\n",
        "X_train, X_test, y_train, y_test = train_test_split(X, y, test_size=0.2, random_state=42)\n",
        "\n",
        "model_results = {}\n",
        "\n",
        "# 1. Logistic Regression\n",
        "logreg = LogisticRegression(max_iter=1000)\n",
        "logreg.fit(X_train, y_train)\n",
        "y_pred_logreg = logreg.predict(X_test)\n",
        "model_results['Logistic Regression'] = {\n",
        "    'accuracy': accuracy_score(y_test, y_pred_logreg),\n",
        "    'precision': precision_score(y_test, y_pred_logreg),\n",
        "    'recall': recall_score(y_test, y_pred_logreg),\n",
        "    'f1': f1_score(y_test, y_pred_logreg),\n",
        "    'confusion_matrix': confusion_matrix(y_test, y_pred_logreg)\n",
        "}\n",
        "\n",
        "# 2. Multinomial Naive Bayes\n",
        "nb = MultinomialNB()\n",
        "nb.fit(X_train, y_train)\n",
        "y_pred_nb = nb.predict(X_test)\n",
        "model_results['Multinomial Naive Bayes'] = {\n",
        "    'accuracy': accuracy_score(y_test, y_pred_nb),\n",
        "    'precision': precision_score(y_test, y_pred_nb),\n",
        "    'recall': recall_score(y_test, y_pred_nb),\n",
        "    'f1': f1_score(y_test, y_pred_nb),\n",
        "    'confusion_matrix': confusion_matrix(y_test, y_pred_nb)\n",
        "}\n",
        "\n",
        "# 3. Support Vector Machine\n",
        "svm = LinearSVC()\n",
        "svm.fit(X_train, y_train)\n",
        "y_pred_svm = svm.predict(X_test)\n",
        "model_results['Support Vector Machine'] = {\n",
        "    'accuracy': accuracy_score(y_test, y_pred_svm),\n",
        "    'precision': precision_score(y_test, y_pred_svm),\n",
        "    'recall': recall_score(y_test, y_pred_svm),\n",
        "    'f1': f1_score(y_test, y_pred_svm),\n",
        "    'confusion_matrix': confusion_matrix(y_test, y_pred_svm)\n",
        "}\n",
        "\n",
        "# Show and compare results\n",
        "for model, metrics in model_results.items():\n",
        "    print(f\"\\n--- {model} ---\")\n",
        "    print(f\"Accuracy: {metrics['accuracy']:.4f}\")\n",
        "    print(f\"Precision: {metrics['precision']:.4f}\")\n",
        "    print(f\"Recall: {metrics['recall']:.4f}\")\n",
        "    print(f\"F1 Score: {metrics['f1']:.4f}\")\n",
        "    print(\"Confusion Matrix:\")\n",
        "    print(metrics['confusion_matrix'])\n",
        "    print()\n",
        "\n",
        "# Optionally, detailed classification reports\n",
        "print(\"\\nClassification Reports:\")\n",
        "print(\"Logistic Regression\\n\", classification_report(y_test, y_pred_logreg))\n",
        "print(\"Multinomial Naive Bayes\\n\", classification_report(y_test, y_pred_nb))\n",
        "print(\"Support Vector Machine\\n\", classification_report(y_test, y_pred_svm))\n"
      ],
      "metadata": {
        "id": "7QmnBkvOFb00"
      },
      "execution_count": null,
      "outputs": []
    }
  ]
}